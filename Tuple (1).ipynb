{
 "cells": [
  {
   "cell_type": "markdown",
   "metadata": {},
   "source": [
    "### Tuple"
   ]
  },
  {
   "cell_type": "code",
   "execution_count": 1,
   "metadata": {},
   "outputs": [],
   "source": [
    "t1=(\"Python\",\"Programming\",1989,\"Machine Learning\")\n",
    "t2=(1,2,3,4,5)\n",
    "print(t1)\n",
    "print(t2)"
   ]
  },
  {
   "cell_type": "code",
   "execution_count": 2,
   "metadata": {},
   "outputs": [
    {
     "name": "stdout",
     "output_type": "stream",
     "text": [
      "t1[0]= Python\n",
      "t1[2]= 1989\n",
      "t1[-1]= AI\n",
      "t1[1:4]= ('Programming', 1989, 'Machine Learning')\n"
     ]
    }
   ],
   "source": [
    "t1=(\"Python\",\"Programming\",1989,\"Machine Learning\",'AI')\n",
    "print(\"t1[0]=\",t1[0])\n",
    "print(\"t1[2]=\",t1[2])\n",
    "print(\"t1[-1]=\",t1[-1])\n",
    "print(\"t1[1:4]=\",t1[1:4])"
   ]
  },
  {
   "cell_type": "code",
   "execution_count": 3,
   "metadata": {},
   "outputs": [
    {
     "name": "stdout",
     "output_type": "stream",
     "text": [
      "('Python', 'Programming', 1989, 'Machine Learning', 'AI')\n"
     ]
    }
   ],
   "source": [
    "t1=(\"Python\",\"Programming\",1989,\"Machine Learning\",'AI')\n",
    "print(t1)\n",
    "del t1\n"
   ]
  },
  {
   "cell_type": "code",
   "execution_count": 4,
   "metadata": {},
   "outputs": [
    {
     "name": "stdout",
     "output_type": "stream",
     "text": [
      "('Python', 'Programming', 1989, 2732)\n"
     ]
    }
   ],
   "source": [
    "t1=(\"Python\",\"Programming\")\n",
    "t2=(1989,2732)\n",
    "t=t1+t2\n",
    "print(t)"
   ]
  },
  {
   "cell_type": "code",
   "execution_count": 11,
   "metadata": {},
   "outputs": [
    {
     "name": "stdout",
     "output_type": "stream",
     "text": [
      "conatct Anil added\n",
      "conatct Harsha added\n",
      "conatct Anilydt added\n"
     ]
    }
   ],
   "source": [
    " contacts={}\n",
    "def addcontacts(name,phone):\n",
    "    if name not in contacts:\n",
    "        contacts[name]=phone\n",
    "        print(\"conatct %s added\" %name)\n",
    "    else:\n",
    "        print(\"conatct %s exists\"%name)\n",
    "    return\n",
    "\n",
    "addcontacts(\"Anil\",5783275327)\n",
    "addcontacts(\"Harsha\",532721378)\n",
    "addcontacts(\"Anilydt\",7328573453785)"
   ]
  },
  {
   "cell_type": "code",
   "execution_count": 12,
   "metadata": {},
   "outputs": [
    {
     "name": "stdout",
     "output_type": "stream",
     "text": [
      "Anil : 5783275327\n",
      "conatct Ajay exists\n",
      "Harsha : 532721378\n"
     ]
    }
   ],
   "source": [
    "\n",
    "def searchContacts(name):\n",
    "    if name in contacts:\n",
    "        print(name,\":\",contacts[name])\n",
    "    else:\n",
    "        print(\"conatct %s exists\"%name)\n",
    "    return\n",
    "\n",
    "searchContacts(\"Anil\")\n",
    "searchContacts(\"Ajay\")\n",
    "searchContacts(\"Harsha\")"
   ]
  },
  {
   "cell_type": "code",
   "execution_count": 20,
   "metadata": {},
   "outputs": [
    {
     "name": "stdout",
     "output_type": "stream",
     "text": [
      "{'Anil': 5783275327, 'Harsha': 532721378, 'Anilydt': 7328573453785, 'Dinesh': 48594869386, 'Ajay': 3489845895}\n",
      "2 Contacts added succesfully\n"
     ]
    }
   ],
   "source": [
    "def importantcontacts(newContacts):\n",
    "    contacts.update(newContacts)\n",
    "    print(contacts)\n",
    "    print(len(newContacts.keys()),\"Contacts added succesfully\")\n",
    "    return\n",
    "\n",
    "newContacts={'Dinesh':48594869386,'Ajay':3489845895}\n",
    "importantcontacts(newContacts)"
   ]
  },
  {
   "cell_type": "code",
   "execution_count": 21,
   "metadata": {},
   "outputs": [
    {
     "name": "stdout",
     "output_type": "stream",
     "text": [
      "Harsha :is deleted from the contacts\n",
      "Naveen is not exists in the contacts\n"
     ]
    }
   ],
   "source": [
    "def deleteContact(name):\n",
    "    if name in contacts:\n",
    "        del contacts[name]\n",
    "        print(name,\":is deleted from the contacts\")\n",
    "    else:\n",
    "        print(name,\"does\n",
    "              not exists in the contacts\")\n",
    "    return\n",
    "\n",
    "deleteContact(\"Harsha\")\n",
    "deleteContact(\"Naveen\")"
   ]
  },
  {
   "cell_type": "code",
   "execution_count": 23,
   "metadata": {},
   "outputs": [
    {
     "name": "stdout",
     "output_type": "stream",
     "text": [
      "Anil :Update with new phone number\n",
      "Harsha does not exist in contact\n"
     ]
    }
   ],
   "source": [
    "def updateContact(name,phone):\n",
    "    if name in contacts:\n",
    "        contacts[name]=phone\n",
    "        print(name,\":Update with new phone number\")\n",
    "    else:\n",
    "        print(name,\"does not exist in contact\")\n",
    "    return\n",
    "\n",
    "updateContact(\"Anil\",74895798257)\n",
    "updateContact(\"Harsha\",1231343999)"
   ]
  },
  {
   "cell_type": "code",
   "execution_count": 24,
   "metadata": {},
   "outputs": [
    {
     "name": "stdout",
     "output_type": "stream",
     "text": [
      "1234\n"
     ]
    }
   ],
   "source": [
    "lst=[1,2,3,4]\n",
    "print(\"%d%d%d%d\"%(lst[0],lst[1],lst[2],lst[3]))"
   ]
  },
  {
   "cell_type": "code",
   "execution_count": 26,
   "metadata": {},
   "outputs": [
    {
     "data": {
      "text/plain": [
       "123"
      ]
     },
     "execution_count": 26,
     "metadata": {},
     "output_type": "execute_result"
    }
   ],
   "source": [
    "from math import floor as f1\n",
    "f1(123.456)"
   ]
  },
  {
   "cell_type": "code",
   "execution_count": 27,
   "metadata": {},
   "outputs": [
    {
     "data": {
      "text/plain": [
       "120"
      ]
     },
     "execution_count": 27,
     "metadata": {},
     "output_type": "execute_result"
    }
   ],
   "source": [
    "from math import factorial as fact\n",
    "fact(5)"
   ]
  },
  {
   "cell_type": "code",
   "execution_count": 28,
   "metadata": {},
   "outputs": [
    {
     "data": {
      "text/plain": [
       "120"
      ]
     },
     "execution_count": 28,
     "metadata": {},
     "output_type": "execute_result"
    }
   ],
   "source": [
    "import math \n",
    "math.factorial(5)"
   ]
  },
  {
   "cell_type": "code",
   "execution_count": 30,
   "metadata": {},
   "outputs": [
    {
     "ename": "IndentationError",
     "evalue": "unindent does not match any outer indentation level (<tokenize>, line 6)",
     "output_type": "error",
     "traceback": [
      "\u001b[1;36m  File \u001b[1;32m\"<tokenize>\"\u001b[1;36m, line \u001b[1;32m6\u001b[0m\n\u001b[1;33m    generateRandomNumber(10,12,120)\u001b[0m\n\u001b[1;37m    ^\u001b[0m\n\u001b[1;31mIndentationError\u001b[0m\u001b[1;31m:\u001b[0m unindent does not match any outer indentation level\n"
     ]
    }
   ],
   "source": [
    "import random\n",
    "def generateRandomNumber(n,lb,ub):\n",
    "    for i in range(0,n):\n",
    "        print(random.randit(lb,ub),end=\" \")\n",
    "    return\n",
    " generateRandomNumber(10,12,120)"
   ]
  },
  {
   "cell_type": "code",
   "execution_count": null,
   "metadata": {},
   "outputs": [],
   "source": []
  }
 ],
 "metadata": {
  "kernelspec": {
   "display_name": "Python 3",
   "language": "python",
   "name": "python3"
  },
  "language_info": {
   "codemirror_mode": {
    "name": "ipython",
    "version": 3
   },
   "file_extension": ".py",
   "mimetype": "text/x-python",
   "name": "python",
   "nbconvert_exporter": "python",
   "pygments_lexer": "ipython3",
   "version": "3.7.3"
  }
 },
 "nbformat": 4,
 "nbformat_minor": 2
}
