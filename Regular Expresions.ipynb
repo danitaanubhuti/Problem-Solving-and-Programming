{
 "cells": [
  {
   "cell_type": "code",
   "execution_count": 1,
   "metadata": {},
   "outputs": [
    {
     "name": "stdout",
     "output_type": "stream",
     "text": [
      "False\n",
      "True\n",
      "False\n"
     ]
    }
   ],
   "source": [
    "import re\n",
    "def phoneNumberValidate(phone):\n",
    "    pattern='^[6-9][0-9]{9}$' or'^[0][6-9][0-9]{9}' or '[+][9][1][6-9][0-9]{9}'\n",
    "    phone=str(phone)\n",
    "    if re.match(pattern,phone):\n",
    "        return True\n",
    "    return False\n",
    "\n",
    "print(phoneNumberValidate(999991334))\n",
    "print(phoneNumberValidate(9543991334))\n",
    "print(phoneNumberValidate(+918099536858))"
   ]
  },
  {
   "cell_type": "code",
   "execution_count": 1,
   "metadata": {},
   "outputs": [
    {
     "name": "stdout",
     "output_type": "stream",
     "text": [
      "True\n",
      "False\n"
     ]
    }
   ],
   "source": [
    "# RE --validation for roll number\n",
    "### 152U1A0501\n",
    "import re\n",
    "def validateRollNumber(number):\n",
    "    number=str(number)\n",
    "    pattern=\"^[1][5][2][U][1][A][0][1-9][0-6][0-9]$\";\n",
    "    if re.match(pattern,number):\n",
    "        return True\n",
    "    return False\n",
    "print(validateRollNumber(\"152U1A0555\"))\n",
    "print(validateRollNumber(\"152U1A0485\"))\n"
   ]
  },
  {
   "cell_type": "code",
   "execution_count": 6,
   "metadata": {},
   "outputs": [
    {
     "name": "stdout",
     "output_type": "stream",
     "text": [
      "True\n",
      "False\n"
     ]
    }
   ],
   "source": [
    "#Email Id validation\n",
    "import re\n",
    "def validateEmailID(email):\n",
    "    pattern=\"^[0-9a-z][0-9a-z]{4,13}[0-9a-z][@][a-z0-9]{3,18}[.][a-z]{2,4}$\"\n",
    "    if re.match(pattern,email):\n",
    "        return True\n",
    "    return False\n",
    "\n",
    "print(validateEmailID(\"anil1889@gmail.com\"))\n",
    "print(validateEmailID(\"$anil.1889@gmail.com\"))"
   ]
  },
  {
   "cell_type": "code",
   "execution_count": 8,
   "metadata": {},
   "outputs": [
    {
     "name": "stdout",
     "output_type": "stream",
     "text": [
      "True\n",
      "False\n"
     ]
    }
   ],
   "source": [
    "#regular expressionpassword\n",
    "#paramters\n",
    "#accept lowercase upper case spl symbols\n",
    "import re\n",
    "def validatePassword(s):\n",
    "    pattern=\"[a-zA-Z0-9!#@$]{6,15}$\"\n",
    "    if re.match(pattern,s):\n",
    "        return True\n",
    "    return False\n",
    "\n",
    "print(validatePassword(\"anil1889@#12\"))\n",
    "print(validateEmailID(\"$anil.1889@gmail.com\"))"
   ]
  },
  {
   "cell_type": "code",
   "execution_count": null,
   "metadata": {},
   "outputs": [],
   "source": []
  }
 ],
 "metadata": {
  "kernelspec": {
   "display_name": "Python 3",
   "language": "python",
   "name": "python3"
  },
  "language_info": {
   "codemirror_mode": {
    "name": "ipython",
    "version": 3
   },
   "file_extension": ".py",
   "mimetype": "text/x-python",
   "name": "python",
   "nbconvert_exporter": "python",
   "pygments_lexer": "ipython3",
   "version": "3.7.3"
  }
 },
 "nbformat": 4,
 "nbformat_minor": 2
}
