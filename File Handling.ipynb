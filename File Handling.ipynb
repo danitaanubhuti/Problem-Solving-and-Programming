{
 "cells": [
  {
   "cell_type": "code",
   "execution_count": 13,
   "metadata": {},
   "outputs": [
    {
     "name": "stdout",
     "output_type": "stream",
     "text": [
      "file is created successfully created and data is entered\n"
     ]
    }
   ],
   "source": [
    "# Function to create a file and enter some data\n",
    "def createFile(filename):\n",
    "    f=open(filename,\"w\")\n",
    "    for i in range(10):\n",
    "        f.write(\"This is %d Line\\n\"%i)\n",
    "    print(\"file is created successfully created and data is entered\")\n",
    "    f.close()\n",
    "    return\n",
    "createFile(\"file1.txt\")"
   ]
  },
  {
   "cell_type": "code",
   "execution_count": 14,
   "metadata": {},
   "outputs": [
    {
     "name": "stdout",
     "output_type": "stream",
     "text": [
      "This is 0 Line\n",
      "This is 1 Line\n",
      "This is 2 Line\n",
      "This is 3 Line\n",
      "This is 4 Line\n",
      "This is 5 Line\n",
      "This is 6 Line\n",
      "This is 7 Line\n",
      "This is 8 Line\n",
      "This is 9 Line\n",
      "\n"
     ]
    }
   ],
   "source": [
    "#Fuction for reading the file data\n",
    "def readFile(filename):\n",
    "    f=open(filename,\"r\")\n",
    "    if f.mode==\"r\":\n",
    "        x=f.read()\n",
    "        print(x)\n",
    "    f.close()\n",
    "    return\n",
    "\n",
    "readFile(\"file1.txt\")"
   ]
  },
  {
   "cell_type": "code",
   "execution_count": 15,
   "metadata": {},
   "outputs": [
    {
     "name": "stdout",
     "output_type": "stream",
     "text": [
      "file is created successfully created and data is entered\n"
     ]
    }
   ],
   "source": [
    "def createFile(filename):\n",
    "    f=open(filename,\"w\")\n",
    "    for i in range(10):\n",
    "        f.write(\"This is %d Line\\n\"%i)\n",
    "    print(\"file is created successfully created and data is entered\")\n",
    "    f.close()\n",
    "    return\n",
    "createFile(\"file1.txt\")"
   ]
  },
  {
   "cell_type": "code",
   "execution_count": 30,
   "metadata": {},
   "outputs": [],
   "source": [
    "#data to Append\n",
    "#Function to append data to existing file\n",
    "def appendData(filename):\n",
    "    f=open(filename,\"a\")\n",
    "    f.write(\"new Line 1\\n\")\n",
    "    f.write(\"new Line 2\\n\")\n",
    "    f.close()\n",
    "    return\n",
    "appendData(\"file1.txt\")"
   ]
  },
  {
   "cell_type": "code",
   "execution_count": 31,
   "metadata": {},
   "outputs": [
    {
     "name": "stdout",
     "output_type": "stream",
     "text": [
      "14\n"
     ]
    }
   ],
   "source": [
    "def dataAnanlysisWordCount(filename,word):\n",
    "    f=open(filename,\"r\")\n",
    "    if f.mode==\"r\":\n",
    "        x=f.read()\n",
    "        lst=x.split()\n",
    "    cnt=lst.count(word)\n",
    "    return cnt\n",
    "\n",
    "print(dataAnanlysisWordCount(\"file1.txt\",\"Line\"))"
   ]
  },
  {
   "cell_type": "code",
   "execution_count": 32,
   "metadata": {},
   "outputs": [
    {
     "name": "stdout",
     "output_type": "stream",
     "text": [
      "216\n"
     ]
    }
   ],
   "source": [
    "  def countcharacters(filename):\n",
    "    f=open(filename,\"r\")\n",
    "    if f.mode==\"r\":\n",
    "        x=f.read()\n",
    "        lst=list(x)\n",
    "    return len(lst)\n",
    "print(countcharacters(\"file1.txt\"))        "
   ]
  },
  {
   "cell_type": "code",
   "execution_count": 34,
   "metadata": {},
   "outputs": [
    {
     "data": {
      "text/plain": [
       "22"
      ]
     },
     "execution_count": 34,
     "metadata": {},
     "output_type": "execute_result"
    }
   ],
   "source": [
    "def upperCaseCount(filename):\n",
    "    cntUpper=0\n",
    "    f=open(filename,\"r\")\n",
    "    if f.mode==\"r\":\n",
    "        x=f.read()\n",
    "        lst=list(x)\n",
    "    for i in lst:\n",
    "        if i.isupper():\n",
    "            cntUpper+=1\n",
    "    return cntUpper\n",
    "upperCaseCount(\"file1.txt\")"
   ]
  },
  {
   "cell_type": "code",
   "execution_count": 38,
   "metadata": {},
   "outputs": [
    {
     "data": {
      "text/plain": [
       "12"
      ]
     },
     "execution_count": 38,
     "metadata": {},
     "output_type": "execute_result"
    }
   ],
   "source": [
    "#Function to count number of lines\n",
    "def numberofLines(filename):\n",
    "    cntline=0\n",
    "    f=open(filename,\"r\")\n",
    "    if f.mode==\"r\":\n",
    "        x=f.read()\n",
    "        lst=x.split(\"\\n\")\n",
    "        x=len(lst)-1\n",
    "    return x\n",
    "numberofLines(\"file1.txt\")"
   ]
  },
  {
   "cell_type": "code",
   "execution_count": null,
   "metadata": {},
   "outputs": [],
   "source": []
  }
 ],
 "metadata": {
  "kernelspec": {
   "display_name": "Python 3",
   "language": "python",
   "name": "python3"
  },
  "language_info": {
   "codemirror_mode": {
    "name": "ipython",
    "version": 3
   },
   "file_extension": ".py",
   "mimetype": "text/x-python",
   "name": "python",
   "nbconvert_exporter": "python",
   "pygments_lexer": "ipython3",
   "version": "3.7.3"
  }
 },
 "nbformat": 4,
 "nbformat_minor": 2
}
