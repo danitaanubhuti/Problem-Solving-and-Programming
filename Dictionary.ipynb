{
 "cells": [
  {
   "cell_type": "markdown",
   "metadata": {},
   "source": [
    "### Dictionary\n"
   ]
  },
  {
   "cell_type": "code",
   "execution_count": 4,
   "metadata": {},
   "outputs": [
    {
     "name": "stdout",
     "output_type": "stream",
     "text": [
      "user[Name]= Anil\n",
      "user[Age]= 29\n",
      "user[Mobile No.]= 8088536431\n",
      "user[Email]= jdjdf@gmail.com\n"
     ]
    }
   ],
   "source": [
    "user1={'Name':'Anil','Age':29,'Email':'jdjdf@gmail.com','Mobile Number':8088536431}\n",
    "print(\"user[Name]=\",user1['Name'])\n",
    "print(\"user[Age]=\",user1['Age'])\n",
    "print(\"user[Mobile No.]=\",user1['Mobile Number'])\n",
    "print(\"user[Email]=\",user1['Email'])"
   ]
  },
  {
   "cell_type": "code",
   "execution_count": 12,
   "metadata": {},
   "outputs": [
    {
     "name": "stdout",
     "output_type": "stream",
     "text": [
      "jdjdf@gmail.com\n",
      "jdsjf@hotmail.com\n",
      "Hyderabad\n"
     ]
    }
   ],
   "source": [
    "user1={'Name':'Anil','Age':29,'Email':'jdjdf@gmail.com','Mobile Number':8088536431}\n",
    "print(user1['Email'])\n",
    "user1['Email']='jdsjf@hotmail.com'\n",
    "print(user1['Email'])\n",
    "user1['Address']='Hyderabad'\n",
    "print(user1['Address'])\n"
   ]
  },
  {
   "cell_type": "code",
   "execution_count": 14,
   "metadata": {},
   "outputs": [
    {
     "name": "stdout",
     "output_type": "stream",
     "text": [
      "jdjdf@gmail.com\n",
      "{}\n"
     ]
    }
   ],
   "source": [
    "user1={'Name':'Anil','Age':29,'Email':'jdjdf@gmail.com','Mobile Number':8088536431}\n",
    "print(user1['Email'])\n",
    "del user1['Email']\n",
    "user1.clear()\n",
    "print(user1)"
   ]
  },
  {
   "cell_type": "code",
   "execution_count": 15,
   "metadata": {},
   "outputs": [
    {
     "name": "stdout",
     "output_type": "stream",
     "text": [
      "4\n"
     ]
    }
   ],
   "source": [
    "user1={'Name':'Anil','Age':29,'Email':'jdjdf@gmail.com','Mobile Number':8088536431}\n",
    "print(len(user1))"
   ]
  },
  {
   "cell_type": "code",
   "execution_count": 21,
   "metadata": {},
   "outputs": [
    {
     "name": "stdout",
     "output_type": "stream",
     "text": [
      "{'Name': 'Anil', 'Age': 29, 'Email': 'jdjdf@gmail.com', 'Mobile Number': 8088536431}\n",
      "{'Name': 'Anil', 'Age': 29, 'Email': 'jdjdf@gmail.com', 'Mobile Number': 8088536431}\n",
      "{'Name': 'Anil', 'Age': 29, 'Email': 'jdjdf@gmail.com', 'Mobile Number': 8088536431}\n"
     ]
    },
    {
     "ename": "AttributeError",
     "evalue": "'dict' object has no attribute 'item'",
     "output_type": "error",
     "traceback": [
      "\u001b[1;31m---------------------------------------------------------------------------\u001b[0m",
      "\u001b[1;31mAttributeError\u001b[0m                            Traceback (most recent call last)",
      "\u001b[1;32m<ipython-input-21-ab695c206a7f>\u001b[0m in \u001b[0;36m<module>\u001b[1;34m\u001b[0m\n\u001b[0;32m      4\u001b[0m \u001b[0muser2\u001b[0m\u001b[1;33m=\u001b[0m\u001b[0muser1\u001b[0m\u001b[1;33m.\u001b[0m\u001b[0mcopy\u001b[0m\u001b[1;33m(\u001b[0m\u001b[1;33m)\u001b[0m\u001b[1;33m\u001b[0m\u001b[1;33m\u001b[0m\u001b[0m\n\u001b[0;32m      5\u001b[0m \u001b[0mprint\u001b[0m\u001b[1;33m(\u001b[0m\u001b[0muser2\u001b[0m\u001b[1;33m)\u001b[0m\u001b[1;33m\u001b[0m\u001b[1;33m\u001b[0m\u001b[0m\n\u001b[1;32m----> 6\u001b[1;33m \u001b[0mprint\u001b[0m\u001b[1;33m(\u001b[0m\u001b[0muser1\u001b[0m\u001b[1;33m.\u001b[0m\u001b[0mitem\u001b[0m\u001b[1;33m(\u001b[0m\u001b[1;33m)\u001b[0m\u001b[1;33m)\u001b[0m\u001b[1;33m\u001b[0m\u001b[1;33m\u001b[0m\u001b[0m\n\u001b[0m\u001b[0;32m      7\u001b[0m \u001b[0mprint\u001b[0m\u001b[1;33m(\u001b[0m\u001b[0muser1\u001b[0m\u001b[1;33m.\u001b[0m\u001b[0mitem\u001b[0m\u001b[1;33m(\u001b[0m\u001b[1;33m)\u001b[0m\u001b[1;33m)\u001b[0m\u001b[1;33m\u001b[0m\u001b[1;33m\u001b[0m\u001b[0m\n",
      "\u001b[1;31mAttributeError\u001b[0m: 'dict' object has no attribute 'item'"
     ]
    }
   ],
   "source": [
    "user1={'Name':'Anil','Age':29,'Email':'jdjdf@gmail.com','Mobile Number':8088536431}\n",
    "print(str(user1))\n",
    "print(user1)\n",
    "user2=user1.copy()\n",
    "print(user2)\n",
    "print(user1.item())\n",
    "print(user1.item())\n"
   ]
  },
  {
   "cell_type": "markdown",
   "metadata": {},
   "source": [
    "### string Formating"
   ]
  },
  {
   "cell_type": "code",
   "execution_count": 23,
   "metadata": {},
   "outputs": [
    {
     "name": "stdout",
     "output_type": "stream",
     "text": [
      "PythonProgramming\n"
     ]
    }
   ],
   "source": [
    "lst=[\"Python\",\"Programming\"]\n",
    "print(\"%s%s\"%(lst[0],lst[1]))"
   ]
  },
  {
   "cell_type": "code",
   "execution_count": 27,
   "metadata": {},
   "outputs": [
    {
     "name": "stdout",
     "output_type": "stream",
     "text": [
      "False\n"
     ]
    }
   ],
   "source": [
    " print('1.1'.isnumeric())\n"
   ]
  },
  {
   "cell_type": "code",
   "execution_count": null,
   "metadata": {},
   "outputs": [],
   "source": []
  }
 ],
 "metadata": {
  "kernelspec": {
   "display_name": "Python 3",
   "language": "python",
   "name": "python3"
  },
  "language_info": {
   "codemirror_mode": {
    "name": "ipython",
    "version": 3
   },
   "file_extension": ".py",
   "mimetype": "text/x-python",
   "name": "python",
   "nbconvert_exporter": "python",
   "pygments_lexer": "ipython3",
   "version": "3.7.3"
  }
 },
 "nbformat": 4,
 "nbformat_minor": 2
}
