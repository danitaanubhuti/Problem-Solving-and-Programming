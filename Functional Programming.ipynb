{
 "cells": [
  {
   "cell_type": "markdown",
   "metadata": {},
   "source": [
    "### Eg 1"
   ]
  },
  {
   "cell_type": "code",
   "execution_count": 10,
   "metadata": {},
   "outputs": [
    {
     "name": "stdout",
     "output_type": "stream",
     "text": [
      "90\n"
     ]
    }
   ],
   "source": [
    "def printEven(n):\n",
    "    cnt=0\n",
    "    sum=0\n",
    "    while(cnt!=n):\n",
    "        if(cnt%2==0):\n",
    "            sum=sum+cnt;\n",
    "        cnt=cnt+1\n",
    "    return sum\n",
    "print(printEven(20))"
   ]
  },
  {
   "cell_type": "markdown",
   "metadata": {},
   "source": [
    "### Eg2\n",
    "#### Factorial of given Number"
   ]
  },
  {
   "cell_type": "code",
   "execution_count": 12,
   "metadata": {},
   "outputs": [
    {
     "name": "stdout",
     "output_type": "stream",
     "text": [
      "1 2 3 4 6 "
     ]
    }
   ],
   "source": [
    "def factorialList(n):\n",
    "    i=1\n",
    "    while(i!=n):\n",
    "        if(n%i==0):\n",
    "            print(i,end=\" \")\n",
    "        i=i+1\n",
    "    return\n",
    "factorialList(12)"
   ]
  },
  {
   "cell_type": "markdown",
   "metadata": {},
   "source": [
    "# List"
   ]
  },
  {
   "cell_type": "code",
   "execution_count": 15,
   "metadata": {},
   "outputs": [
    {
     "name": "stdout",
     "output_type": "stream",
     "text": [
      "[1, 2, 3, 4, 5]\n",
      "1\n"
     ]
    }
   ],
   "source": [
    "List=[1,2,3,4,5]\n",
    "print(List)\n",
    "#entire list\n",
    "print(List[0])"
   ]
  },
  {
   "cell_type": "code",
   "execution_count": 42,
   "metadata": {},
   "outputs": [
    {
     "name": "stdout",
     "output_type": "stream",
     "text": [
      "['Akhil', 'Arvind']\n",
      "['Akhil', '15']\n"
     ]
    }
   ],
   "source": [
    "list1=[\"Akhil\",\"Arvind\",\"jdka\",\"jjska\"]\n",
    "print(list1)\n",
    "list1[1]=\"15\"\n",
    "print(list2)"
   ]
  },
  {
   "cell_type": "code",
   "execution_count": 40,
   "metadata": {},
   "outputs": [
    {
     "name": "stdout",
     "output_type": "stream",
     "text": [
      "1 2 3 4 5 6 7 \n",
      "5\n",
      "[4, 5, 6, 7]\n",
      "[1, 2, 3]\n",
      "[1, 2, 3, 4, 5, 6, 7]\n"
     ]
    }
   ],
   "source": [
    "list1=[1,2,3,4,5,6,7]\n",
    "for x in list1:\n",
    "    print(x,end=\" \")\n",
    "print()   \n",
    "print(list1[4])\n",
    "print(list1[3:7])\n",
    "print(list1[:3])\n",
    "print(list1[:7])"
   ]
  },
  {
   "cell_type": "code",
   "execution_count": 33,
   "metadata": {},
   "outputs": [
    {
     "name": "stdout",
     "output_type": "stream",
     "text": [
      "1 2 3 4 5 6 7 8 9 10 \n",
      "[2, 3, 4, 5, 6, 7, 8, 9]\n",
      "[3, 4, 5, 6, 7, 8]\n",
      "[1, 3, 5, 7, 9]\n",
      "[1, 4, 7, 10]\n",
      "[10, 8, 6, 4, 2]\n",
      "9\n",
      "10\n"
     ]
    }
   ],
   "source": [
    "lst1=[1,2,3,4,5,6,7,8,9,10]\n",
    "for x in lst1:\n",
    "    print(x,end=\" \")\n",
    "\n",
    "print()\n",
    "print(lst1[1:-1])#eleminate first and last charecter\n",
    "print(lst1[2:-2])#eleminates first2 and last 2 elements\n",
    "print(lst1[::2])#alternate numbers\n",
    "print(lst1[::3])#leaves 2 numbers and prints\n",
    "print(lst1[::-2])#alternate numbers in reverse\n",
    "print(lst1[-2])\n",
    "print(lst1[-1])"
   ]
  },
  {
   "cell_type": "code",
   "execution_count": 43,
   "metadata": {},
   "outputs": [
    {
     "name": "stdout",
     "output_type": "stream",
     "text": [
      "[1, 2, 3, 4, 5]\n",
      "[1, 2, 4, 5]\n",
      "[1, 2, 4, 5, 15, 150, 3, 1]\n",
      "2\n",
      "1\n"
     ]
    }
   ],
   "source": [
    "lst1=[1,2,3,4,5]\n",
    "print(lst1)\n",
    "del lst1[2]\n",
    "print(lst1)\n",
    "lst1.append(15)\n",
    "lst1.append(150)\n",
    "lst1.append(3)\n",
    "lst1.append(1)\n",
    "print(lst1)\n",
    "print(lst1.count(1))\n",
    "print(lst1.count(3))"
   ]
  },
  {
   "cell_type": "code",
   "execution_count": 54,
   "metadata": {},
   "outputs": [
    {
     "name": "stdout",
     "output_type": "stream",
     "text": [
      "['Gitam', 'python', 'Raptor', 1, 5, 'python', 'python']\n",
      "['Gitam', 'python', 2019, 'Raptor', 1, 5, 'python', 'python']\n",
      "['Gitam', 'python', 2019, 'Raptor', 2019, 1, 5, 'python', 'python']\n",
      "['Gitam', 2019, 'Raptor', 2019, 1, 5, 'python', 'python']\n",
      "['Gitam', 2019, 'Raptor', 2019, 1, 5, 'python']\n",
      "['python', 5, 1, 2019, 'Raptor', 2019, 'Gitam']\n"
     ]
    }
   ],
   "source": [
    "lst1=[\"Gitam\",\"python\",\"Raptor\",1,5,\"python\",\"python\"]\n",
    "print(lst1)\n",
    "lst1.index(\"python\")\n",
    "lst1.index(1)\n",
    "lst1.insert(2,2019)\n",
    "print(lst1)\n",
    "lst1.insert(4,2019)\n",
    "print(lst1)\n",
    "lst1.remove(\"python\")\n",
    "print(lst1)\n",
    "lst1.remove(\"python\")\n",
    "print(lst1)\n",
    "lst1.reverse()\n",
    "print(lst1)"
   ]
  },
  {
   "cell_type": "markdown",
   "metadata": {},
   "source": [
    "## Linear Search"
   ]
  },
  {
   "cell_type": "code",
   "execution_count": 59,
   "metadata": {},
   "outputs": [
    {
     "name": "stdout",
     "output_type": "stream",
     "text": [
      "target item found\n",
      "target item not found\n"
     ]
    }
   ],
   "source": [
    "def LinearSearch(a,tarItem):\n",
    "    flag=0\n",
    "    for i in range(len(a)):\n",
    "        if a[i]==tarItem:\n",
    "            flag=1\n",
    "            break\n",
    "    if (flag!=0):\n",
    "            print(\"target item found\")\n",
    "    else:\n",
    "             print(\"target item not found\")\n",
    "a=[16,2,12,6,9,7,61]\n",
    "LinearSearch(a,61)\n",
    "LinearSearch(a,6199)"
   ]
  },
  {
   "cell_type": "code",
   "execution_count": 62,
   "metadata": {},
   "outputs": [
    {
     "name": "stdout",
     "output_type": "stream",
     "text": [
      "2\n"
     ]
    }
   ],
   "source": [
    "def LinearSearchDuplicate(a,tarItem):\n",
    "    flag=0\n",
    "    for i in range(len(a)):\n",
    "        if a[i]==tarItem:\n",
    "            flag=flag+1\n",
    "    print(flag)\n",
    "            \n",
    "    \n",
    "a=[9,1,6,1,5,9,15,16]\n",
    "LinearSearchDuplicate(a,9)"
   ]
  },
  {
   "cell_type": "code",
   "execution_count": 65,
   "metadata": {},
   "outputs": [
    {
     "name": "stdout",
     "output_type": "stream",
     "text": [
      "1 4 7 "
     ]
    }
   ],
   "source": [
    "def linearExample(a,tarItem):\n",
    "    for i in range(len(a)):\n",
    "        if a[i]==tarItem:\n",
    "            print(i,end=\" \")    \n",
    "    \n",
    "a=[1,5,9,6,5,15,12,5]\n",
    "linearExample(a,5)"
   ]
  },
  {
   "cell_type": "code",
   "execution_count": 69,
   "metadata": {},
   "outputs": [
    {
     "name": "stdout",
     "output_type": "stream",
     "text": [
      "! !  ! ! ! ! !  ! ! ! ! ! ! ! !  "
     ]
    }
   ],
   "source": [
    "def linearExample(a,tarItem):\n",
    "    for i in range(len(a)):\n",
    "        if a[i]==tarItem:\n",
    "            j=0\n",
    "            while j!=i+1:\n",
    "                print(\"!\",end=\" \")\n",
    "                j=j+1\n",
    "            print(end=\" \")\n",
    "            \n",
    "    \n",
    "    \n",
    "a=[1,5,9,6,5,15,12,5]\n",
    "linearExample(a,5)"
   ]
  },
  {
   "cell_type": "code",
   "execution_count": 71,
   "metadata": {},
   "outputs": [
    {
     "name": "stdout",
     "output_type": "stream",
     "text": [
      "1 9 30 45 90 60 75 5 "
     ]
    }
   ],
   "source": [
    "def linearExample(a,tarItem):\n",
    "    for i in range(len(a)):\n",
    "        if i==0 or i==(len(a)-1):\n",
    "            print(a[i],end=\" \")\n",
    "        else:\n",
    "            print(a[i-1]*a[i+1],end=\" \")\n",
    "a=[1,5,9,6,5,15,12,5]\n",
    "linearExample(a,5)"
   ]
  },
  {
   "cell_type": "code",
   "execution_count": 76,
   "metadata": {},
   "outputs": [
    {
     "name": "stdout",
     "output_type": "stream",
     "text": [
      "60\n"
     ]
    }
   ],
   "source": [
    "def linearExample(a):\n",
    "    sum=0\n",
    "    for i in range(len(a)):\n",
    "        if (a[i]%3==0 and a[i]%5==0):\n",
    "            sum=sum+a[i];\n",
    "            i=i+1\n",
    "    print(sum)\n",
    "    return \n",
    "\n",
    "a=[1,15,45,3,243,646]\n",
    "linearExample(a)"
   ]
  },
  {
   "cell_type": "code",
   "execution_count": null,
   "metadata": {},
   "outputs": [],
   "source": []
  }
 ],
 "metadata": {
  "kernelspec": {
   "display_name": "Python 3",
   "language": "python",
   "name": "python3"
  },
  "language_info": {
   "codemirror_mode": {
    "name": "ipython",
    "version": 3
   },
   "file_extension": ".py",
   "mimetype": "text/x-python",
   "name": "python",
   "nbconvert_exporter": "python",
   "pygments_lexer": "ipython3",
   "version": "3.7.3"
  }
 },
 "nbformat": 4,
 "nbformat_minor": 2
}
